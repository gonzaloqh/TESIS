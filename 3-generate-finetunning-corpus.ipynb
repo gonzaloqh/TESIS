{
 "cells": [
  {
   "cell_type": "code",
   "execution_count": 18,
   "metadata": {},
   "outputs": [],
   "source": [
    "import json\n",
    "import csv\n",
    "import os\n",
    "from glob import glob\n"
   ]
  },
  {
   "cell_type": "code",
   "execution_count": 8,
   "metadata": {},
   "outputs": [],
   "source": [
    "folder_path = \"3-preCorpus/\"\n",
    "os.makedirs(os.path.dirname(folder_path), exist_ok=True)"
   ]
  },
  {
   "cell_type": "code",
   "execution_count": 11,
   "metadata": {},
   "outputs": [],
   "source": [
    "# Corpus base con definiciones clave\n",
    "base_corpus = [\n",
    "    (\"¿Qué es un Feature Group?\", \"Un Feature Group es una colección de variables utilizadas en modelos analíticos dentro del Feature Store del banco.\"),\n",
    "    (\"¿Qué significa <vp>?\", \"<vp> representa la vicepresidencia a la que pertenece el Feature Group, puede ser 'per' para Banca Persona o 'emp' para Banca Empresa.\"),\n",
    "    (\"¿Qué significa <lat>?\", \"<lat> indica la periodicidad de carga del Feature Group, puede ser 'dia' (Diario), 'sem' (Semanal) o 'mes' (Mensual).\"),\n",
    "    (\"¿Qué es el universo máximo en los datos del banco?\", \"El universo máximo define el conjunto de datos sobre el cual se aplican los Feature Groups: Población completa, Sistema financiero o Clientes del banco.\"),\n",
    "]\n",
    "\n",
    "with open(folder_path+\"/3-base_corpus.json\", \"w\", encoding=\"utf-8\") as f:\n",
    "    json.dump(base_corpus, f, ensure_ascii=False, indent=4)\n"
   ]
  },
  {
   "cell_type": "code",
   "execution_count": 13,
   "metadata": {},
   "outputs": [],
   "source": [
    "def generate_corpus(data, corpus):    \n",
    "    for row in data:\n",
    "        dominio, repo, feature_group, bitbucket_fg, aws_tabla, universo, definicion = row\n",
    "        \n",
    "        # Pares de pregunta-respuesta\n",
    "        corpus.extend([\n",
    "            (f\"¿Qué información contiene el feature group '{feature_group}'?\", definicion),\n",
    "            (f\"¿Dónde se almacena el feature group '{feature_group}'?\", f\"Repositorio: {repo}, Bitbucket: {bitbucket_fg}, AWS Tabla: {aws_tabla}\"),\n",
    "            (f\"¿Cuál es el universo de datos del feature group '{feature_group}'?\", universo),\n",
    "            (f\"¿Cómo está relacionado el feature group '{feature_group}' con el dominio '{dominio}'?\", f\"Forma parte del dominio {dominio} y se encuentra en el repositorio {repo}.\"),\n",
    "            (f\"¿Cuál es el propósito del feature group '{feature_group}' en el contexto del banco?\", f\"{definicion} Este feature group pertenece al dominio {dominio} y su universo máximo es {universo}.\"),\n",
    "        ])\n",
    "        \n",
    "        # Texto estructurado\n",
    "        structured_text = (\n",
    "            f\"Dominio: {dominio}\\n\"\n",
    "            f\"Repositorio: {repo}\\n\"\n",
    "            f\"Feature Group: {feature_group}\\n\"\n",
    "            f\"Bitbucket Feature Group: {bitbucket_fg}\\n\"\n",
    "            f\"AWS Tabla: {aws_tabla}\\n\"\n",
    "            f\"Universo Máximo: {universo}\\n\"\n",
    "            f\"Definición: {definicion}\\n\"\n",
    "        )\n",
    "        corpus.append((\"Texto estructurado\", structured_text))\n",
    "    \n",
    "    return corpus\n"
   ]
  },
  {
   "cell_type": "code",
   "execution_count": 14,
   "metadata": {},
   "outputs": [
    {
     "name": "stdout",
     "output_type": "stream",
     "text": [
      "('¿Qué es un Feature Group?', 'Un Feature Group es una colección de variables utilizadas en modelos analíticos dentro del Feature Store del banco.')\n",
      "('¿Qué significa <vp>?', \"<vp> representa la vicepresidencia a la que pertenece el Feature Group, puede ser 'per' para Banca Persona o 'emp' para Banca Empresa.\")\n",
      "('¿Qué significa <lat>?', \"<lat> indica la periodicidad de carga del Feature Group, puede ser 'dia' (Diario), 'sem' (Semanal) o 'mes' (Mensual).\")\n",
      "('¿Qué es el universo máximo en los datos del banco?', 'El universo máximo define el conjunto de datos sobre el cual se aplican los Feature Groups: Población completa, Sistema financiero o Clientes del banco.')\n",
      "(\"¿Qué información contiene el feature group 'Datos sociodemográficos'?\", 'Información sociodemográfica, ingresos, edad, años de existencia y fuentes de ingresos.')\n",
      "(\"¿Dónde se almacena el feature group 'Datos sociodemográficos'?\", 'Repositorio: ibk-fs-acoe-infpers, Bitbucket: <vp>-sociodem-<lat>, AWS Tabla: ibk_fs_group_<vp>_sociodem_<lat>')\n",
      "(\"¿Cuál es el universo de datos del feature group 'Datos sociodemográficos'?\", ' Población completa')\n",
      "(\"¿Cómo está relacionado el feature group 'Datos sociodemográficos' con el dominio 'Información personas '?\", 'Forma parte del dominio Información personas  y se encuentra en el repositorio ibk-fs-acoe-infpers.')\n",
      "(\"¿Cuál es el propósito del feature group 'Datos sociodemográficos' en el contexto del banco?\", 'Información sociodemográfica, ingresos, edad, años de existencia y fuentes de ingresos. Este feature group pertenece al dominio Información personas  y su universo máximo es  Población completa.')\n",
      "('Texto estructurado', 'Dominio: Información personas \\nRepositorio: ibk-fs-acoe-infpers\\nFeature Group: Datos sociodemográficos\\nBitbucket Feature Group: <vp>-sociodem-<lat>\\nAWS Tabla: ibk_fs_group_<vp>_sociodem_<lat>\\nUniverso Máximo:  Población completa\\nDefinición: Información sociodemográfica, ingresos, edad, años de existencia y fuentes de ingresos.\\n')\n",
      "(\"¿Qué información contiene el feature group 'Propiedades '?\", 'Información de propiedades muebles e inmuebles, tangibles e intangibles.')\n",
      "(\"¿Dónde se almacena el feature group 'Propiedades '?\", 'Repositorio: ibk-fs-acoe-infpers, Bitbucket: <vp>-propiedad-<lat>, AWS Tabla: ibk_fs_group_<vp>_propiedad_<lat>')\n",
      "(\"¿Cuál es el universo de datos del feature group 'Propiedades '?\", ' Población completa')\n",
      "(\"¿Cómo está relacionado el feature group 'Propiedades ' con el dominio 'Información personas '?\", 'Forma parte del dominio Información personas  y se encuentra en el repositorio ibk-fs-acoe-infpers.')\n",
      "(\"¿Cuál es el propósito del feature group 'Propiedades ' en el contexto del banco?\", 'Información de propiedades muebles e inmuebles, tangibles e intangibles. Este feature group pertenece al dominio Información personas  y su universo máximo es  Población completa.')\n"
     ]
    }
   ],
   "source": [
    "\n",
    "\n",
    "# Ejemplo de datos con la estructura mencionada\n",
    "data = [\n",
    "    [\"Información personas \",\"ibk-fs-acoe-infpers\",\"Datos sociodemográficos\",\"<vp>-sociodem-<lat>\",\"ibk_fs_group_<vp>_sociodem_<lat>\",\" Población completa\",\"Información sociodemográfica, ingresos, edad, años de existencia y fuentes de ingresos.\"],\n",
    "    [\"Información personas \",\"ibk-fs-acoe-infpers\",\"Propiedades \",\"<vp>-propiedad-<lat>\",\"ibk_fs_group_<vp>_propiedad_<lat>\",\" Población completa\",\"Información de propiedades muebles e inmuebles, tangibles e intangibles.\"],\n",
    "    [\"Información personas \",\"ibk-fs-acoe-infpers\",\"Datos de contacto \",\"<vp>-contacto-<lat>\",\"ibk_fs_group_<vp>_contacto_<lat>\",\" Población completa\",\"Contactabilidad a nivel de personas para teléfonos o correos. Incluye la cantidad o ratios de tipos de contactos, tales como el contacto efectivo, contacto no efectivo o sin contacto, para diferentes periodos.  \"],\n",
    "    [\"Información personas \",\"ibk-fs-acoe-infpers\",\"Contacto telefónico\",\"ibk-ctostelf-<lat>\",\"ibk_fs_group_ibk_ctostelf<lat>\",\"Teléfonos de la población completa\",\"Contactabilidad a nivel de teléfonos, no a nivel de personas. Incluye la cantidad o ratios de tipos de contactos, tales como el contacto efectivo, contacto no efectivo o sin contacto, para diferentes periodos.\"],\n",
    "    [\"Información personas \",\"ibk-fs-acoe-infpers\",\"Contacto digital\",\"ibk-ctosdig-<lat>\",\"ibk_fs_group_ibk_ctosdig_<lat>\",\"Correos electrónicos de la población completa\",\"Contactabilidad a nivel de correos electrónicos, no a nivel de personas. Incluye la cantidad o ratios de tipos de contactos, tales como el contacto efectivo, contacto no efectivo o sin contacto, para diferentes periodos.  \"],\n",
    "    [\"Historial financiero \",\"ibk-fs-acoe-histfin\",\"RCC \",\"<vp>-rcc-<lat>\",\"ibk_fs_group_<vp>_rcc_<lat>\",\"Sistema financiero\",\"Información sobre los productos financieros, montos y variaciones en los montos de productos activos reportados en el sistema financiero.\"],\n",
    "    [\"Historial financiero \",\"ibk-fs-acoe-histfin\",\"Riesgo financiero \",\"<vp>-rskfinac-<lat>\",\"ibk_fs_group_<vp>_rskfinac_<lat>\",\"Sistema financiero\",\"Variables relacionadas con la evaluación del riesgo crediticio, días de mora o atraso en todo el sistema financiero (no exclusivamente Interbank) e información de centrales de riesgo de pagos.\"],\n",
    "    [\"Información cliente \",\"ibk-fs-acoe-infocli\",\"Perfil del cliente \",\"<vp>-pflcom-<lat>\",\"ibk_fs_group_<vp>_pflcom_<lat>\",\"Sistema financiero\",\"Descripciones sobre el perfil comercial de los potenciales clientes del banco, tales como el CLV del cliente, principalidad; y, segmentaciones o perfilamientos sobre el tipo de consumidor o nivel de digitalización, etc.\"],\n",
    "    [\"Información cliente \",\"ibk-fs-acoe-infocli\",\"Bases de riesgos ibk\",\"<vp>-rskibk-<lat>\",\"ibk_fs_group_<vp>_rskibk_<lat>\",\" Sistema financiero\",\"Información sobre los productos financieros aprobados por Interbank a clientes y no clientes, sin considerar si son ofertados o no. Incluye el monto ofertado, la tasa y la capacidad de endeudamiento máxima, conocida como CEM. Además, la evaluación del riesgo crediticio, días de mora o atraso en exclusivamente Interbank.\"],\n",
    "    [\"Información cliente \",\"ibk-fs-acoe-infocli\",\"Productos \",\"<vp>-products-<lat>\",\"ibk_fs_group_<vp>_products_<lat>\",\" Clientes del banco\",\"Descripción de los montos, duración del préstamo, períodos de gracia, etc. Además de la cantidad de productos (activos y pasivos) y el saldo de productos.\"],\n",
    "    [\"Gestión del journey \",\"ibk-fs-acoe-journey\",\"Journey \",\"<vp>-journey-<lat>\",\"ibk_fs_group_<vp>_journey_<lat>\",\" Clientes del banco\",\"Información sobre las etapas del ciclo de vida del cliente, tales como la adquisición, activación, desarrollo o retención.\"],\n",
    "    [\"Gestión del journey \",\"ibk-fs-acoe-journey\",\"Churn \",\"<vp>-churn-<lat>\",\"ibk_fs_group_<vp>_churn_<lat>\",\" Clientes del banco\",\"Variables sobre los productos cancelados o bloqueados, tipos de cancelaciones, intentos de cancelaciones y canal de cancelación.\"],\n",
    "    [\"Campañas y promociones \",\"ibk-fs-acoe-camp\",\"Oferta de productos \",\"<vp>-cmpprod-<lat>\",\"ibk_fs_group_<vp>_cmpprod_<lat>\",\" Sistema financiero\",\"Datos relacionados con la participación del cliente en campañas de oferta de productos, los productos ofertados, respuestas y canales.\"],\n",
    "    [\"Campañas y promociones \",\"ibk-fs-acoe-camp\",\"Campañas de consumo \",\"<vp>-cmpcons-<lat>\",\"ibk_fs_group_<vp>_cmpcons_<lat>\",\" Clientes del banco\",\"Datos relacionados con la participación del cliente en campañas de consumo con crédito o débito, cantidad o ratios de promociones enviadas, tipos de promociones, canales de envío, nivel de recepción y respuestas.\"],\n",
    "    [\"Campañas y promociones \",\"ibk-fs-acoe-camp\",\"Campañas de educación \",\"<vp>-cmpedu-<lat>\",\"ibk_fs_group_<vp>_cmpedu_<lat>\",\" Clientes del banco\",\"Datos relacionados con la participación del cliente en campañas de educación de uso de productos o app, cantidad o ratios de comunicación enviadas, canales de envío, nivel de recepción y respuestas.\"],\n",
    "    [\"Transacciones financieras \",\"ibk-fs-acoe-trx\",\"Transacciones \",\"<vp>-trx-<lat>\",\"ibk_fs_group_<vp>_trx_<lat>\",\" Clientes del banco\",\"Información sobre las transacciones realizadas por los clientes, montos transaccionados, medios y canales por donde se transacciono.\"],\n",
    "    [\"Transacciones financieras \",\"ibk-fs-acoe-trx\",\"Consumos \",\"<vp>-consumos-<lat>\",\"ibk_fs_group_<vp>_consumos_<lat>\",\" Clientes del banco\",\"Información de los consumos con tarjetas realizadas por los clientes, incluyendo el rubro de consumo y medio o canal.\"],\n",
    "    [\"Experiencia cliente \",\"ibk-fs-acoe-exp\",\"Experiencias de en tiendas \",\"<vp>-exptienda-<lat>\",\"ibk_fs_group_<vp>_exptienda_<lat>\",\" Sistema financiero\",\"Información de la interacción de los clientes en las tiendas, sus arribos, NPS, tiempos de espera, motivos de arribos, etc.\"],\n",
    "    [\"Experiencia cliente \",\"ibk-fs-acoe-exp\",\"Experiencias televentas \",\"<vp>-exptlv-<lat>\",\"ibk_fs_group_<vp>_exptlv_<lat>\",\" Sistema financiero\",\"Información de la interacción de los clientes y potenciales clientes en televentas, motivos de no aceptación, cantidad de llamadas, productos ofertados por canal, etc.\"],\n",
    "    [\"Experiencia cliente \",\"ibk-fs-acoe-exp\",\"Experiencias banca telefónica \",\"<vp>-bnktelf-<lat>\",\"ibk_fs_group_<vp>_bnktelf_<lat>\",\" Sistema financiero\",\"Información de la interacción de los clientes o potenciales clientes en banca telefónica, motivos de llamada, cantidad de llamadas, tiempos de respuesta, cadencia, etc.\"],\n",
    "    [\"Experiencia cliente \",\"ibk-fs-acoe-exp\",\"Experiencias chats \",\"<vp>-expchats-<lat>\",\"ibk_fs_group_<vp>_expchats_<lat>\",\" Sistema financiero\",\"Información de la comunicación de los clientes o potenciales clientes con los chatbots u operadores de chats (whatsapp, Facebook, etc). Incluyendo los motivos de la comunicación, resolutividad, tiempos de respuesta, etc.\"],\n",
    "    [\"Experiencia cliente \",\"ibk-fs-acoe-exp\",\"Experiencia APP \",\"<vp>-expapp-<lat>\",\"ibk_fs_group_<vp>_expapp_<lat>\",\" Clientes del banco\",\"Información de experiencia de los clientes con las apps del banco, incluyendo tiempos de navegación, clicks, número de consultas en la app, etc.\"],\n",
    "    [\"Experiencia cliente \",\"ibk-fs-acoe-exp\",\"Experiencia digital \",\"<vp>-expdig-<lat>\",\"ibk_fs_group_<vp>_expdig_<lat>\",\" Sistema financiero\",\"Información sobre otras variables digitales de los clientes que no tengan que ver con transacciones o las apps del banco, incluyendo uso de canales físicos-digitales, como ATMs y variables de la web del banco.\"],\n",
    "    [\"Cobranzas \",\"ibk-fs-acoe-cob\",\"Comportamiento de pagos\",\"<vp>-pagos-<lat>\",\"ibk_fs_group_<vp>_pagos_<lat>\",\" Clientes del banco\",\"Historial de pagos por tipo de producto dentro de Interbank, incluyendo días de mora y deuda acumulada.\"],\n",
    "    [\"Cobranzas \",\"ibk-fs-acoe-cob\",\"Medios de cobranza\",\"<vp>-cobros-<lat>\",\"ibk_fs_group_<vp>_cobros_<lat>\",\" Clientes del banco\",\"Medios de comunicación para las cobranzas, cantidad de llamadas, cantidad de llamadas rechazadas, etc.\"],\n",
    "    [\"Variables INTERCORP\",\"ibk-fs-acoe-intercorp\",\"Intercorp transformada\",\"ibk-itcx-<lat>\",\"ibk_fs_group_ibk_itcx_<lat>\",\"Población completa\",\"Información sobre las variables transformadas de intercorp, y en que modelos se utilizan.\"]                            \n",
    "]\n",
    "\n",
    "# Generar el corpus\n",
    "generated_corpus = generate_corpus(data, base_corpus.copy())\n",
    "\n",
    "# Mostrar ejemplos\n",
    "top_5_samples = generated_corpus[:15]\n",
    "for sample in top_5_samples:\n",
    "    print(sample)\n",
    "\n",
    "# Guardar el corpus en un archivo JSON (reemplaza si existe)\n",
    "with open(folder_path+\"/3-corpus_acoe.json\", \"w\", encoding=\"utf-8\") as f:\n",
    "    json.dump(generated_corpus, f, ensure_ascii=False, indent=4)"
   ]
  },
  {
   "cell_type": "code",
   "execution_count": 15,
   "metadata": {},
   "outputs": [],
   "source": [
    "\n",
    "def load_csv_to_array(filename):\n",
    "    data = []\n",
    "    with open(filename, newline='', encoding='utf-8') as csvfile:\n",
    "        reader = csv.reader(csvfile)\n",
    "        next(reader, None)  # Ignorar la primera fila (headers)\n",
    "        for row in reader:\n",
    "            processed_row = [col if col.strip() else \"nan\" for col in row[:5]]\n",
    "            data.append(processed_row)\n",
    "    return data\n",
    "\n",
    "data_csv = load_csv_to_array(folder_path+\"/meta_fs - corpus.csv\")"
   ]
  },
  {
   "cell_type": "code",
   "execution_count": 16,
   "metadata": {},
   "outputs": [],
   "source": [
    "def generate_corpus_csv(data):\n",
    "    corpus = []\n",
    "    \n",
    "    for row in data:\n",
    "        variable, descripcion, tablas_fuente, dominio, p_featuregroup = row\n",
    "        \n",
    "        # Pares de pregunta-respuesta\n",
    "        corpus.extend([\n",
    "            (f\"¿Qué significa la variable '{variable}'?\", descripcion),\n",
    "            (f\"¿A qué tabla fuente pertenece la variable '{variable}'?\", f\"Se encuentra en la tabla fuente: {tablas_fuente}\"),\n",
    "            (f\"¿A qué dominio pertenece la variable '{variable}'?\", f\"Forma parte del dominio: {dominio}\"),\n",
    "            (f\"¿En qué feature group se encuentra la variable '{variable}'?\", f\"Se encuentra en el feature group: {p_featuregroup}\"),\n",
    "            (f\"¿Cuál es el propósito de la variable '{variable}'?\", f\"{descripcion} Esta variable pertenece al dominio {dominio} y está en la tabla {tablas_fuente} dentro del feature group {p_featuregroup}.\")\n",
    "        ])\n",
    "        \n",
    "        # Texto estructurado\n",
    "        structured_text = (\n",
    "            f\"Variable: {variable}\\n\"\n",
    "            f\"Descripción: {descripcion}\\n\"\n",
    "            f\"Tabla Fuente: {tablas_fuente}\\n\"\n",
    "            f\"Dominio: {dominio}\\n\"\n",
    "            f\"Feature Group: {p_featuregroup}\\n\"\n",
    "        )\n",
    "        corpus.append((\"Texto estructurado\", structured_text))\n",
    "    \n",
    "    return corpus\n"
   ]
  },
  {
   "cell_type": "code",
   "execution_count": 17,
   "metadata": {},
   "outputs": [
    {
     "name": "stdout",
     "output_type": "stream",
     "text": [
      "(\"¿Qué significa la variable 'flg_clicambfch09m'?\", 'Indicador si el cliente solicito un cambio de fecha en los 9 últimos meses')\n",
      "(\"¿A qué tabla fuente pertenece la variable 'flg_clicambfch09m'?\", 'Se encuentra en la tabla fuente: t_agg_cambiofecha_hist_rsk')\n",
      "(\"¿A qué dominio pertenece la variable 'flg_clicambfch09m'?\", 'Forma parte del dominio: ibk-fs-acoe-journey')\n",
      "(\"¿En qué feature group se encuentra la variable 'flg_clicambfch09m'?\", 'Se encuentra en el feature group: ibk-fs-group-emp-journey-mes')\n",
      "(\"¿Cuál es el propósito de la variable 'flg_clicambfch09m'?\", 'Indicador si el cliente solicito un cambio de fecha en los 9 últimos meses Esta variable pertenece al dominio ibk-fs-acoe-journey y está en la tabla t_agg_cambiofecha_hist_rsk dentro del feature group ibk-fs-group-emp-journey-mes.')\n",
      "('Texto estructurado', 'Variable: flg_clicambfch09m\\nDescripción: Indicador si el cliente solicito un cambio de fecha en los 9 últimos meses\\nTabla Fuente: t_agg_cambiofecha_hist_rsk\\nDominio: ibk-fs-acoe-journey\\nFeature Group: ibk-fs-group-emp-journey-mes\\n')\n",
      "(\"¿Qué significa la variable 'avg_porcsald_principales'?\", 'Porcentaje promedio de deudas del cliente con principales entidades: BCP, BBVA, SBP e IBK')\n",
      "(\"¿A qué tabla fuente pertenece la variable 'avg_porcsald_principales'?\", 'Se encuentra en la tabla fuente: t_rsk_vars_rcc_principalidad')\n",
      "(\"¿A qué dominio pertenece la variable 'avg_porcsald_principales'?\", 'Forma parte del dominio: ibk-fs-acoe-histfin')\n",
      "(\"¿En qué feature group se encuentra la variable 'avg_porcsald_principales'?\", 'Se encuentra en el feature group: ibk-fs-group-per-rcc-mes')\n",
      "(\"¿Cuál es el propósito de la variable 'avg_porcsald_principales'?\", 'Porcentaje promedio de deudas del cliente con principales entidades: BCP, BBVA, SBP e IBK Esta variable pertenece al dominio ibk-fs-acoe-histfin y está en la tabla t_rsk_vars_rcc_principalidad dentro del feature group ibk-fs-group-per-rcc-mes.')\n",
      "('Texto estructurado', 'Variable: avg_porcsald_principales\\nDescripción: Porcentaje promedio de deudas del cliente con principales entidades: BCP, BBVA, SBP e IBK\\nTabla Fuente: t_rsk_vars_rcc_principalidad\\nDominio: ibk-fs-acoe-histfin\\nFeature Group: ibk-fs-group-per-rcc-mes\\n')\n",
      "(\"¿Qué significa la variable 'avg_porcsald_retail'?\", 'Porcentaje promedio de deudas del cliente en entidades financieras de retail: CENCOSUD, RIPLEY, FALABELLA, FINANCIERA UNO')\n",
      "(\"¿A qué tabla fuente pertenece la variable 'avg_porcsald_retail'?\", 'Se encuentra en la tabla fuente: t_rsk_vars_rcc_principalidad')\n",
      "(\"¿A qué dominio pertenece la variable 'avg_porcsald_retail'?\", 'Forma parte del dominio: ibk-fs-acoe-histfin')\n"
     ]
    }
   ],
   "source": [
    "generated_corpus_csv = generate_corpus_csv(data_csv)\n",
    "\n",
    "# Mostrar ejemplos\n",
    "top_5_samples = generated_corpus_csv[:15]\n",
    "for sample in top_5_samples:\n",
    "    print(sample)\n",
    "\n",
    "# Guardar el corpus en un archivo JSON (reemplaza si existe)\n",
    "with open(folder_path+\"/3-corpus_csv.json\", \"w\", encoding=\"utf-8\") as f:\n",
    "    json.dump(generated_corpus_csv, f, ensure_ascii=False, indent=4)"
   ]
  },
  {
   "cell_type": "code",
   "execution_count": 20,
   "metadata": {},
   "outputs": [
    {
     "name": "stdout",
     "output_type": "stream",
     "text": [
      "Archivos generados correctamente.\n"
     ]
    }
   ],
   "source": [
    "json_files = glob(os.path.join(folder_path, \"*.json\"))\n",
    "\n",
    "preguntas_respuestas = []\n",
    "texto_estructurado = []\n",
    "\n",
    "for file_path in json_files:\n",
    "    with open(file_path, \"r\", encoding=\"utf-8\") as f:\n",
    "        data = json.load(f)\n",
    "        \n",
    "        for item in data:\n",
    "            if isinstance(item, list) and item[0] == \"Texto estructurado\":\n",
    "                texto_estructurado.append(item[1])\n",
    "            elif isinstance(item, list) and len(item) == 2:\n",
    "                preguntas_respuestas.append(item) \n",
    "\n",
    "# Guardar los archivos JSON de salida\n",
    "with open(\"3-corpus_preguntas_respuestas.json\", \"w\", encoding=\"utf-8\") as f:\n",
    "    json.dump(preguntas_respuestas, f, ensure_ascii=False, indent=4)\n",
    "\n",
    "with open(\"3-corpus_texto_estructurado.json\", \"w\", encoding=\"utf-8\") as f:\n",
    "    json.dump(texto_estructurado, f, ensure_ascii=False, indent=4)\n",
    "\n",
    "print(\"Archivos generados correctamente.\")\n"
   ]
  },
  {
   "cell_type": "code",
   "execution_count": null,
   "metadata": {},
   "outputs": [
    {
     "name": "stdout",
     "output_type": "stream",
     "text": [
      "Conjunto de prueba generado: 3-test_set_v2.json\n"
     ]
    }
   ],
   "source": [
    "#TEST corpus v2\n",
    "import json\n",
    "import random\n",
    "\n",
    "# Cargar el corpus de entrenamiento\n",
    "with open(\"3-corpus.json\", \"r\", encoding=\"utf-8\") as file:\n",
    "    corpus = json.load(file)\n",
    "\n",
    "# Función para generar preguntas reformuladas\n",
    "def generar_pregunta_simulada(pregunta):\n",
    "    variaciones = [\n",
    "        f\"¿Podrías explicarme {pregunta[2:].lower()}?\", \n",
    "        f\"Me gustaría saber {pregunta[2:].lower()}.\",\n",
    "        f\"Tengo dudas sobre {pregunta[2:].lower()}, ¿puedes ayudarme?\",\n",
    "        f\"¿Cómo se define {pregunta[2:].lower()}?\",\n",
    "        f\"¿Qué significa exactamente {pregunta[2:].lower()}?\"\n",
    "    ]\n",
    "    return random.choice(variaciones)\n",
    "\n",
    "# Filtrar solo pares de pregunta-respuesta válidos\n",
    "preguntas_respuestas = [pair for pair in corpus if pair[0].startswith(\"¿\")]\n",
    "\n",
    "# Determinar el tamaño del conjunto de prueba (20%)\n",
    "test_set_size = int(len(preguntas_respuestas) * 0.2)\n",
    "\n",
    "# Seleccionar una muestra aleatoria y reformular las preguntas\n",
    "test_set_simulated = [\n",
    "    [generar_pregunta_simulada(q), a] for q, a in random.sample(preguntas_respuestas, test_set_size)\n",
    "]\n",
    "\n",
    "# Guardar el conjunto de prueba generado\n",
    "with open(\"3-test_set_v2.json\", \"w\", encoding=\"utf-8\") as file:\n",
    "    json.dump(test_set_simulated, file, ensure_ascii=False, indent=4)\n",
    "\n",
    "print(\"Conjunto de prueba generado: 3-test_set_v2.json\")\n"
   ]
  }
 ],
 "metadata": {
  "kernelspec": {
   "display_name": "Python 3",
   "language": "python",
   "name": "python3"
  },
  "language_info": {
   "codemirror_mode": {
    "name": "ipython",
    "version": 3
   },
   "file_extension": ".py",
   "mimetype": "text/x-python",
   "name": "python",
   "nbconvert_exporter": "python",
   "pygments_lexer": "ipython3",
   "version": "3.12.3"
  }
 },
 "nbformat": 4,
 "nbformat_minor": 2
}
